{
 "metadata": {
  "name": "",
  "signature": "sha256:725f351cef10010f3139b8ebc9cebb49c5083c2cab824f3ff9cc02ad92b570cc"
 },
 "nbformat": 3,
 "nbformat_minor": 0,
 "worksheets": [
  {
   "cells": [
    {
     "cell_type": "code",
     "collapsed": false,
     "input": [
      "#how to load data\n",
      "\n",
      "with open ('Colors.txt', 'rb') as otwarty_plik:\n",
      "    print 'Colors.txt, content:\\n' +otwarty_plik.read()"
     ],
     "language": "python",
     "metadata": {},
     "outputs": [
      {
       "output_type": "stream",
       "stream": "stdout",
       "text": [
        "Colors.txt, content:\n",
        "Color\tValue\r\n",
        "Red\t1\r\n",
        "Orange\t2\r\n",
        "Yellow\t3\r\n",
        "Green\t4\r\n",
        "B\n"
       ]
      }
     ],
     "prompt_number": 6
    },
    {
     "cell_type": "code",
     "collapsed": false,
     "input": [
      "#streaming\n",
      "\n",
      "with open('Colors.txt', 'rb') as otwarty_plik:\n",
      "    for obserwacja in otwarty_plik:\n",
      "        print 'obserwacja: ' + obserwacja\n",
      "        \n"
     ],
     "language": "python",
     "metadata": {},
     "outputs": [
      {
       "output_type": "stream",
       "stream": "stdout",
       "text": [
        "obserwacja: Color\tValue\r\n",
        "\n",
        "obserwacja: Red\t1\r\n",
        "\n",
        "obserwacja: Orange\t2\r\n",
        "\n",
        "obserwacja: Yellow\t3\r\n",
        "\n",
        "obserwacja: Green\t4\r\n",
        "\n",
        "obserwacja: Blue\t5\r\n",
        "\n",
        "obserwacja: Purple\t6\r\n",
        "\n",
        "obserwacja: Black\t7\r\n",
        "\n",
        "obserwacja: White\t8\n"
       ]
      }
     ],
     "prompt_number": 9
    },
    {
     "cell_type": "code",
     "collapsed": false,
     "input": [
      "#sampling\n",
      "\n",
      "n=3\n",
      "with open('Colors.txt','rb') as otwarty_plik:\n",
      "    for k, obserwacja in enumerate(otwarty_plik):\n",
      "        if k % n == 0:\n",
      "            print('obserwacja: ' + str(k) + ' zawartosc: ' + obserwacja)\n",
      "            \n",
      "        \n",
      "    "
     ],
     "language": "python",
     "metadata": {},
     "outputs": [
      {
       "output_type": "stream",
       "stream": "stdout",
       "text": [
        "obserwacja: 0 zawartosc: Color\tValue\r\n",
        "\n",
        "obserwacja: 3 zawartosc: Yellow\t3\r\n",
        "\n",
        "obserwacja: 6 zawartosc: Purple\t6\r\n",
        "\n"
       ]
      }
     ],
     "prompt_number": 13
    },
    {
     "cell_type": "code",
     "collapsed": false,
     "input": [
      "# random sampling\n",
      "\n",
      "from random import random\n",
      "wielkosc_sampla=0.50\n",
      "with open('Colors.txt','rb') as otwarty_plik:\n",
      "    for k, obserwacja in enumerate(otwarty_plik):\n",
      "        if random()<=wielkosc_sampla:\n",
      "            print('czytam linie: '+ str(k)+ ' z zawartoscia: '+ obserwacja)\n",
      "\n"
     ],
     "language": "python",
     "metadata": {},
     "outputs": [
      {
       "output_type": "stream",
       "stream": "stdout",
       "text": [
        "czytam linie: 0 z zawartoscia: Color\tValue\r\n",
        "\n",
        "czytam linie: 5 z zawartoscia: Blue\t5\r\n",
        "\n",
        "czytam linie: 6 z zawartoscia: Purple\t6\r\n",
        "\n",
        "czytam linie: 7 z zawartoscia: Black\t7\r\n",
        "\n"
       ]
      }
     ],
     "prompt_number": 25
    },
    {
     "cell_type": "code",
     "collapsed": false,
     "input": [
      "#parsing file with panda\n",
      "\n",
      "import pandas as pd\n",
      "czytaj_tabelke = pd.io.parsers.read_table(\"Colors.txt\")\n",
      "print czytaj_tabelke\n",
      "\n",
      "\n",
      "\n"
     ],
     "language": "python",
     "metadata": {},
     "outputs": [
      {
       "output_type": "stream",
       "stream": "stdout",
       "text": [
        "    Color  Value\n",
        "0     Red      1\n",
        "1  Orange      2\n",
        "2  Yellow      3\n",
        "3   Green      4\n",
        "4    Blue      5\n",
        "5  Purple      6\n",
        "6   Black      7\n",
        "7   White      8\n"
       ]
      }
     ],
     "prompt_number": 2
    },
    {
     "cell_type": "code",
     "collapsed": false,
     "input": [
      "import pandas as pd\n",
      "\n",
      "titanik = pd.io.parsers.read_csv(\"titanic.csv\")\n",
      "X = titanik[['sex']]\n",
      "print X"
     ],
     "language": "python",
     "metadata": {},
     "outputs": [
      {
       "output_type": "stream",
       "stream": "stdout",
       "text": [
        "         sex\n",
        "0     female\n",
        "1       male\n",
        "2     female\n",
        "3       male\n",
        "4     female\n",
        "5       male\n",
        "6     female\n",
        "7       male\n",
        "8     female\n",
        "9       male\n",
        "10      male\n",
        "11    female\n",
        "12    female\n",
        "13    female\n",
        "14      male\n",
        "15      male\n",
        "16      male\n",
        "17    female\n",
        "18    female\n",
        "19      male\n",
        "20      male\n",
        "21    female\n",
        "22      male\n",
        "23    female\n",
        "24    female\n",
        "25      male\n",
        "26      male\n",
        "27    female\n",
        "28    female\n",
        "29      male\n",
        "...      ...\n",
        "1279  female\n",
        "1280    male\n",
        "1281    male\n",
        "1282    male\n",
        "1283    male\n",
        "1284    male\n",
        "1285    male\n",
        "1286  female\n",
        "1287    male\n",
        "1288    male\n",
        "1289    male\n",
        "1290  female\n",
        "1291    male\n",
        "1292    male\n",
        "1293    male\n",
        "1294    male\n",
        "1295    male\n",
        "1296    male\n",
        "1297    male\n",
        "1298    male\n",
        "1299    male\n",
        "1300  female\n",
        "1301    male\n",
        "1302    male\n",
        "1303    male\n",
        "1304  female\n",
        "1305  female\n",
        "1306    male\n",
        "1307    male\n",
        "1308    male\n",
        "\n",
        "[1309 rows x 1 columns]\n"
       ]
      }
     ],
     "prompt_number": 10
    },
    {
     "cell_type": "code",
     "collapsed": false,
     "input": [
      "import pandas as pd\n",
      "xls"
     ],
     "language": "python",
     "metadata": {},
     "outputs": []
    }
   ],
   "metadata": {}
  }
 ]
}